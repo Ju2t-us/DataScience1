{
 "cells": [
  {
   "cell_type": "code",
   "execution_count": 5,
   "id": "4b79a5f7",
   "metadata": {},
   "outputs": [],
   "source": [
    "pirates = {\n",
    "    \"Pirate\": [\"Blackbeard\", \"Anne Bonny\", \"Calico Jack\", \"Cheung Po Tsai\", \"Grace O'Malley\", \"Mary Read\", \"Sayyida Al Hurra\", \"Ching Shih\", \"Sir Francis Drake\", \"Jean Lafitte\"],\n",
    "    \"Sex\": [\"M\", \"F\", \"M\", \"M\", \"F\", \"F\", \"F\", \"F\", \"M\", \"M\"],\n",
    "    \"Age at Death\": [40, 24, 37, 39, 73, 36, 75, 69, 56, 46],\n",
    "    \"Height\": [6.4, 5.6, 5.6, 5.3, 5.0, 5.1, \"n/a\", 5.3, 5.5, 6.2],\n",
    "    \"Skull and Crossbones\": [False, True, True, False, False, True, False, False, False, False]\n",
    "}\n"
   ]
  },
  {
   "cell_type": "code",
   "execution_count": 11,
   "id": "ad1636bf",
   "metadata": {},
   "outputs": [
    {
     "name": "stdout",
     "output_type": "stream",
     "text": [
      "['Blackbeard', 'Anne Bonny', 'Calico Jack', 'Cheung Po Tsai', \"Grace O'Malley\", 'Mary Read', 'Sayyida Al Hurra', 'Ching Shih', 'Sir Francis Drake', 'Jean Lafitte']\n",
      "['M', 'F', 'M', 'M', 'F', 'F', 'F', 'F', 'M', 'M']\n",
      "[40, 24, 37, 39, 73, 36, 75, 69, 56, 46]\n",
      "[6.4, 5.6, 5.6, 5.3, 5.0, 5.1, 'n/a', 5.3, 5.5, 6.2]\n",
      "[False, True, True, False, False, True, False, False, False, False]\n"
     ]
    }
   ],
   "source": [
    "for x in pirates.values():\n",
    "    print(x)"
   ]
  },
  {
   "cell_type": "code",
   "execution_count": null,
   "id": "2c32123f",
   "metadata": {},
   "outputs": [],
   "source": []
  }
 ],
 "metadata": {
  "kernelspec": {
   "display_name": "Python 3 (ipykernel)",
   "language": "python",
   "name": "python3"
  },
  "language_info": {
   "codemirror_mode": {
    "name": "ipython",
    "version": 3
   },
   "file_extension": ".py",
   "mimetype": "text/x-python",
   "name": "python",
   "nbconvert_exporter": "python",
   "pygments_lexer": "ipython3",
   "version": "3.9.13"
  }
 },
 "nbformat": 4,
 "nbformat_minor": 5
}
