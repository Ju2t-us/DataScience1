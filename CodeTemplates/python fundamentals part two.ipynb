{
 "cells": [
  {
   "cell_type": "code",
   "execution_count": 1,
   "id": "390112d2",
   "metadata": {},
   "outputs": [],
   "source": [
    "#C1P1\n",
    "columns = {\n",
    "    \"Name\" : [\"Edward Teach\", \"Anne Bonny\", \"John Rackham\", \"Cheung Po Tsai\", \"Grace O'Malley\", \"Mary Read\", \"Sayyida al Hurra\", \"Zheng Yi Sao\", \"Francis Drake\", \"Jean Lafitte\"],\n",
    "    \"Years Active\": [ [1716, 1718], [1718, 1720], [1718, 1720], [1798, 1810], [1564, 1595], [1708, 1721], [1515, 1545], [1801, 1810], [1563, 1596], [1810, 1823] ],\n",
    "    \"Sailed\": [\"Caribbean\", \"Caribbean\", \"Caribbean\", \"South China Sea\", \"British Isles\", \"Caribbean\", \"Mediterranean\", \"South China Sea\", \"Caribbean\", \"Gulf of Mexico\"],\n",
    "    \"Alias\" : [\"Blackbeard\", \"\", \"Calico Jack\", \"The Kid\", \"Queen of Ireland\", \"Mark\", \"Hakimat Titwan\", \"Ching Shih\", \"Sir Francis Drake\", \"Terror of the Gulf\"]\n",
    "}\n",
    "#C1P2\n",
    "rows = {\n",
    "    \"Edward Teach\" : [[1716, 1718], \"Caribbean\", \"Blackbeard\"],\n",
    "    \"Anne Bonny\" : [[1718, 1720], \"Caribbean\", \"\"],\n",
    "    \"John Rackham\" : [[1718, 1720], \"Caribbean\", \"Calico Jack\"],\n",
    "    \"Cheung Po Tsai\" : [[1798, 1810], \"South China Sea\", \"The Kid\"],\n",
    "    \"Grace O'Malley\" : [[1564, 1595], \"British Isles\", \"Queen of Ireland\"],\n",
    "    \"Mary Read\" : [[1708, 1721], \"Caribbean\", \"Mark\"],\n",
    "    \"Sayyida al Hurra\" : [[1515, 1545], \"Mediterranean\", \"Hakimat Titwan\"],\n",
    "    \"Zheng Yi Sao\" : [[1801, 1810], \"South China Sea\", \"Chingh Shih\"],\n",
    "    \"Francis Drake\" : [[1563, 1596], \"Caribbean\", \"Sire Francis Drake\"],\n",
    "    \"Jean Lafitte\" : [[1810, 1823], \"Gulf of Mexico\", \"Terror of the Gulf\"]\n",
    "}"
   ]
  },
  {
   "cell_type": "code",
   "execution_count": 2,
   "id": "4581ce27",
   "metadata": {},
   "outputs": [
    {
     "name": "stdout",
     "output_type": "stream",
     "text": [
      "Number of pirates who sailed during the 18th century and in the Caribbean: 4\n"
     ]
    }
   ],
   "source": [
    "#C2P1\n",
    "\n",
    "count = 0\n",
    "\n",
    "for years_active, sailed in zip(columns[\"Years Active\"], columns[\"Sailed\"]):\n",
    "    start_year, end_year = years_active\n",
    "    if 1700 <= start_year <= 1799 and \"Caribbean\" in sailed:\n",
    "        count += 1\n",
    "\n",
    "print(\"Number of pirates who sailed during the 18th century and in the Caribbean:\", count)\n"
   ]
  },
  {
   "cell_type": "code",
   "execution_count": 8,
   "id": "7bbe1fe9",
   "metadata": {},
   "outputs": [
    {
     "name": "stdout",
     "output_type": "stream",
     "text": [
      "Francis Drake had the longest career\n"
     ]
    }
   ],
   "source": [
    "#C2P2\n",
    "\n",
    "longest_career = 0\n",
    "pirate_with_longest_career = \"\"\n",
    "\n",
    "careers=[]\n",
    "\n",
    "for career, pirate in zip(columns[\"Years Active\"], columns[\"Name\"]):\n",
    "    start, end = career\n",
    "    careerLength = end - start\n",
    "    careers.append(careerLength)\n",
    "    if careerLength > longest_career:\n",
    "        longest_career = careerLength\n",
    "        pirate_with_longest_career = pirate\n",
    "        \n",
    "print(f'{pirate_with_longest_career} had the longest career')"
   ]
  },
  {
   "cell_type": "code",
   "execution_count": 9,
   "id": "f6d1dae6",
   "metadata": {},
   "outputs": [
    {
     "name": "stdout",
     "output_type": "stream",
     "text": [
      "The average career length is 14.7 years long\n"
     ]
    }
   ],
   "source": [
    "#C2P3\n",
    "\n",
    "avg=sum(careers)/len(careers)\n",
    "print(f\"The average career length is {avg} years long\")\n"
   ]
  },
  {
   "cell_type": "code",
   "execution_count": null,
   "id": "8f1eac6e",
   "metadata": {},
   "outputs": [],
   "source": [
    "#C3P1\n",
    "\n",
    "piratesComplete = {\n",
    "    \"Name\" : [\"Edward Teach\", \"Anne Bonny\", \"John Rackham\", \"Cheung Po Tsai\", \"Grace O'Malley\", \"Mary Read\", \"Sayyida al Hurra\", \"Zheng Yi Sao\", \"Francis Drake\", \"Jean Lafitte\"],\n",
    "    \"Sex\":[\"M\", \"F\", \"M\", \"M\", \"F\", \"F\", \"F\", \"F\", \"M\", \"M\"],\n",
    "    \"Years Active\": [ [1716, 1718], [1718, 1720], [1718, 1720], [1798, 1810], [1564, 1595], [1708, 1721], [1515, 1545], [1801, 1810], [1563, 1596], [1810, 1823] ],\n",
    "    \"Sailed\": [\"Caribbean\", \"Caribbean\", \"Caribbean\", \"South China Sea\", \"British Isles\", \"Caribbean\", \"Mediterranean\", \"South China Sea\", \"Caribbean\", \"Gulf of Mexico\"],\n",
    "    \"Alias\" : [\"Blackbeard\", \"\", \"Calico Jack\", \"The Kid\", \"Queen of Ireland\", \"Mark\", \"Hakimat Titwan\", \"Ching Shih\", \"Sir Francis Drake\", \"Terror of the Gulf\"],\n",
    "    \"Age at Death\":[40, 24, 37, 39, 73, 36, 75, 69, 56, 46],\n",
    "    \"Height\":[6.4, 5.6, 5.6, 5.3, 5.0, 5.1, 0.0, 5.3, 5.5, 6.2],\n",
    "    \"Skull and Crossbones\":[False, True, True, False, False, True, False, False, False, False]\n",
    "}"
   ]
  }
 ],
 "metadata": {
  "kernelspec": {
   "display_name": "Python 3 (ipykernel)",
   "language": "python",
   "name": "python3"
  },
  "language_info": {
   "codemirror_mode": {
    "name": "ipython",
    "version": 3
   },
   "file_extension": ".py",
   "mimetype": "text/x-python",
   "name": "python",
   "nbconvert_exporter": "python",
   "pygments_lexer": "ipython3",
   "version": "3.9.13"
  }
 },
 "nbformat": 4,
 "nbformat_minor": 5
}
