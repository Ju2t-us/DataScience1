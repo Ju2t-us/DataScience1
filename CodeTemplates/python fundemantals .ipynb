{
 "cells": [
  {
   "cell_type": "code",
   "execution_count": 1,
   "id": "4b79a5f7",
   "metadata": {},
   "outputs": [],
   "source": [
    "pirates = {\n",
    "    \"Pirate\":[\"Blackbeard\", \"Anne Bonny\", \"Calico Jack\", \"Cheung Po Tsai\", \"Grace O'Malley\", \"Mary Read\", \"Sayyida Al Hurra\", \"Ching Shih\", \"Sir Francis Drake\", \"Jean Lafitte\"],\n",
    "    \"Sex\":[\"M\", \"F\", \"M\", \"M\", \"F\", \"F\", \"F\", \"F\", \"M\", \"M\"],\n",
    "    \"Age at Death\":[40, 24, 37, 39, 73, 36, 75, 69, 56, 46],\n",
    "    \"Height\":[6.4, 5.6, 5.6, 5.3, 5.0, 5.1, 0.0, 5.3, 5.5, 6.2],\n",
    "    \"Skull and Crossbones\":[False, True, True, False, False, True, False, False, False, False]\n",
    "}\n"
   ]
  },
  {
   "cell_type": "code",
   "execution_count": 2,
   "id": "ad1636bf",
   "metadata": {},
   "outputs": [
    {
     "name": "stdout",
     "output_type": "stream",
     "text": [
      "Blackbeard\n",
      "M\n",
      "40\n",
      "6.4\n",
      "False\n"
     ]
    }
   ],
   "source": [
    "for key in pirates:\n",
    "    print(pirates[key][0])"
   ]
  },
  {
   "cell_type": "code",
   "execution_count": 3,
   "id": "2c32123f",
   "metadata": {},
   "outputs": [
    {
     "name": "stdout",
     "output_type": "stream",
     "text": [
      "[False, False, False, False, True, False, False, True, True, False]\n"
     ]
    }
   ],
   "source": [
    "print(pirates[\"Skull and Crossbones\"][::-1])"
   ]
  },
  {
   "cell_type": "code",
   "execution_count": 4,
   "id": "5d98fee6",
   "metadata": {},
   "outputs": [
    {
     "name": "stdout",
     "output_type": "stream",
     "text": [
      "---------------------------------------\n",
      "Pirate : ['Blackbeard', 'Anne Bonny', 'Calico Jack', 'Cheung Po Tsai', \"Grace O'Malley\", 'Mary Read', 'Sayyida Al Hurra', 'Ching Shih', 'Sir Francis Drake', 'Jean Lafitte']\n",
      "---------------------------------------\n",
      "Age at Death : [40, 24, 37, 39, 73, 36, 75, 69, 56, 46]\n",
      "---------------------------------------\n",
      "Skull and Crossbones : [False, True, True, False, False, True, False, False, False, False]\n"
     ]
    }
   ],
   "source": [
    "for key in list(pirates.keys())[::2]:\n",
    "    print(\"---------------------------------------\")\n",
    "    print(f\"{key} : {pirates[key]}\")"
   ]
  },
  {
   "cell_type": "code",
   "execution_count": 5,
   "id": "f7b0c841",
   "metadata": {},
   "outputs": [
    {
     "name": "stdout",
     "output_type": "stream",
     "text": [
      "How many flags had skulls and crossbones? 3\n"
     ]
    }
   ],
   "source": [
    "count = pirates[\"Skull and Crossbones\"].count(True)\n",
    "print(f\"How many flags had skulls and crossbones? {count}\")"
   ]
  },
  {
   "cell_type": "code",
   "execution_count": null,
   "id": "85b7f943",
   "metadata": {},
   "outputs": [],
   "source": [
    "maleTotal = 0\n",
    "femaleTotal = 0\n",
    "maleCount = 0\n",
    "femaleCount = 0\n",
    "\n",
    "for i in range(0, len(pirates[\"Pirate\"])):\n",
    "    if pirates[\"Sex\"][i] == \"M\":\n",
    "        maleCount += 1\n",
    "        maleTotal += pirates[\"Age at Death\"][i]\n",
    "    else:\n",
    "        femaleCount += 1\n",
    "        femaleTotal += pirates[\"Age at Death\"][i]\n",
    "\n",
    "maleAvg = maleTotal/maleCount # +, -, /, *, //, **, %\n",
    "femaleAvg = femaleTotal/femaleCount\n",
    "\n",
    "if maleAvg > femaleAvg:\n",
    "    print(\"Male pirates live longer\")\n",
    "elif maleAvg < femaleAvg:\n",
    "    print(\"Female pirates live longer\", femaleAvg)\n",
    "else:\n",
    "    print(\"They live the same amount of time!\")"
   ]
  },
  {
   "cell_type": "code",
   "execution_count": 6,
   "id": "535c4a12",
   "metadata": {},
   "outputs": [
    {
     "name": "stdout",
     "output_type": "stream",
     "text": [
      "20.0 percent are taller than 6ft\n"
     ]
    }
   ],
   "source": [
    "count = 0\n",
    "for i in range(10):\n",
    "    if pirates[\"Height\"][i] >= 6.0:\n",
    "        count = count + 1\n",
    "\n",
    "percentage = (count / 10) * 100\n",
    "print(f\"{percentage} percent are taller than 6ft\")"
   ]
  },
  {
   "cell_type": "code",
   "execution_count": null,
   "id": "0f225961",
   "metadata": {},
   "outputs": [],
   "source": []
  }
 ],
 "metadata": {
  "kernelspec": {
   "display_name": "Python 3 (ipykernel)",
   "language": "python",
   "name": "python3"
  },
  "language_info": {
   "codemirror_mode": {
    "name": "ipython",
    "version": 3
   },
   "file_extension": ".py",
   "mimetype": "text/x-python",
   "name": "python",
   "nbconvert_exporter": "python",
   "pygments_lexer": "ipython3",
   "version": "3.9.13"
  }
 },
 "nbformat": 4,
 "nbformat_minor": 5
}
